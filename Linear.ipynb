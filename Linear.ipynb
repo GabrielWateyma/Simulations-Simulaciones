{
  "nbformat": 4,
  "nbformat_minor": 0,
  "metadata": {
    "colab": {
      "provenance": [],
      "authorship_tag": "ABX9TyNLWBrslIAne/j5vAd3JJHy",
      "include_colab_link": true
    },
    "kernelspec": {
      "name": "python3",
      "display_name": "Python 3"
    },
    "language_info": {
      "name": "python"
    },
    "widgets": {
      "application/vnd.jupyter.widget-state+json": {
        "891fc0fa3d434357b1bc486a65e19aed": {
          "model_module": "@jupyter-widgets/controls",
          "model_name": "VBoxModel",
          "model_module_version": "1.5.0",
          "state": {
            "_dom_classes": [
              "widget-interact"
            ],
            "_model_module": "@jupyter-widgets/controls",
            "_model_module_version": "1.5.0",
            "_model_name": "VBoxModel",
            "_view_count": null,
            "_view_module": "@jupyter-widgets/controls",
            "_view_module_version": "1.5.0",
            "_view_name": "VBoxView",
            "box_style": "",
            "children": [
              "IPY_MODEL_50d675f1438c4af29674306ac655aa47",
              "IPY_MODEL_4d393b5cd09f4e0c83cd07eac74d6733",
              "IPY_MODEL_2b3a9f6dbe8c48be952f0e1288a169dd"
            ],
            "layout": "IPY_MODEL_2cde928f7c4d4d5fbecc3b20d953f97b"
          }
        },
        "50d675f1438c4af29674306ac655aa47": {
          "model_module": "@jupyter-widgets/controls",
          "model_name": "FloatSliderModel",
          "model_module_version": "1.5.0",
          "state": {
            "_dom_classes": [],
            "_model_module": "@jupyter-widgets/controls",
            "_model_module_version": "1.5.0",
            "_model_name": "FloatSliderModel",
            "_view_count": null,
            "_view_module": "@jupyter-widgets/controls",
            "_view_module_version": "1.5.0",
            "_view_name": "FloatSliderView",
            "continuous_update": true,
            "description": "slope",
            "description_tooltip": null,
            "disabled": false,
            "layout": "IPY_MODEL_e96923ed12da4332a2da00feef51b2c4",
            "max": 5,
            "min": -5,
            "orientation": "horizontal",
            "readout": true,
            "readout_format": ".2f",
            "step": 0.5,
            "style": "IPY_MODEL_474efbd9f5064720a4d25de4f7ffc417",
            "value": 0
          }
        },
        "4d393b5cd09f4e0c83cd07eac74d6733": {
          "model_module": "@jupyter-widgets/controls",
          "model_name": "FloatSliderModel",
          "model_module_version": "1.5.0",
          "state": {
            "_dom_classes": [],
            "_model_module": "@jupyter-widgets/controls",
            "_model_module_version": "1.5.0",
            "_model_name": "FloatSliderModel",
            "_view_count": null,
            "_view_module": "@jupyter-widgets/controls",
            "_view_module_version": "1.5.0",
            "_view_name": "FloatSliderView",
            "continuous_update": true,
            "description": "intercept",
            "description_tooltip": null,
            "disabled": false,
            "layout": "IPY_MODEL_4184658ba3a54821bc7f298676aa7dd9",
            "max": 5,
            "min": -5,
            "orientation": "horizontal",
            "readout": true,
            "readout_format": ".2f",
            "step": 0.5,
            "style": "IPY_MODEL_c581283a3bbb43278c99cea301ea9f44",
            "value": 0
          }
        },
        "2b3a9f6dbe8c48be952f0e1288a169dd": {
          "model_module": "@jupyter-widgets/output",
          "model_name": "OutputModel",
          "model_module_version": "1.0.0",
          "state": {
            "_dom_classes": [],
            "_model_module": "@jupyter-widgets/output",
            "_model_module_version": "1.0.0",
            "_model_name": "OutputModel",
            "_view_count": null,
            "_view_module": "@jupyter-widgets/output",
            "_view_module_version": "1.0.0",
            "_view_name": "OutputView",
            "layout": "IPY_MODEL_92cc0b29c7494d529443a1434c0e964b",
            "msg_id": "",
            "outputs": [
              {
                "output_type": "display_data",
                "data": {
                  "text/plain": "<Figure size 800x600 with 1 Axes>",
                  "image/png": "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\n"
                },
                "metadata": {}
              }
            ]
          }
        },
        "2cde928f7c4d4d5fbecc3b20d953f97b": {
          "model_module": "@jupyter-widgets/base",
          "model_name": "LayoutModel",
          "model_module_version": "1.2.0",
          "state": {
            "_model_module": "@jupyter-widgets/base",
            "_model_module_version": "1.2.0",
            "_model_name": "LayoutModel",
            "_view_count": null,
            "_view_module": "@jupyter-widgets/base",
            "_view_module_version": "1.2.0",
            "_view_name": "LayoutView",
            "align_content": null,
            "align_items": null,
            "align_self": null,
            "border": null,
            "bottom": null,
            "display": null,
            "flex": null,
            "flex_flow": null,
            "grid_area": null,
            "grid_auto_columns": null,
            "grid_auto_flow": null,
            "grid_auto_rows": null,
            "grid_column": null,
            "grid_gap": null,
            "grid_row": null,
            "grid_template_areas": null,
            "grid_template_columns": null,
            "grid_template_rows": null,
            "height": null,
            "justify_content": null,
            "justify_items": null,
            "left": null,
            "margin": null,
            "max_height": null,
            "max_width": null,
            "min_height": null,
            "min_width": null,
            "object_fit": null,
            "object_position": null,
            "order": null,
            "overflow": null,
            "overflow_x": null,
            "overflow_y": null,
            "padding": null,
            "right": null,
            "top": null,
            "visibility": null,
            "width": null
          }
        },
        "e96923ed12da4332a2da00feef51b2c4": {
          "model_module": "@jupyter-widgets/base",
          "model_name": "LayoutModel",
          "model_module_version": "1.2.0",
          "state": {
            "_model_module": "@jupyter-widgets/base",
            "_model_module_version": "1.2.0",
            "_model_name": "LayoutModel",
            "_view_count": null,
            "_view_module": "@jupyter-widgets/base",
            "_view_module_version": "1.2.0",
            "_view_name": "LayoutView",
            "align_content": null,
            "align_items": null,
            "align_self": null,
            "border": null,
            "bottom": null,
            "display": null,
            "flex": null,
            "flex_flow": null,
            "grid_area": null,
            "grid_auto_columns": null,
            "grid_auto_flow": null,
            "grid_auto_rows": null,
            "grid_column": null,
            "grid_gap": null,
            "grid_row": null,
            "grid_template_areas": null,
            "grid_template_columns": null,
            "grid_template_rows": null,
            "height": null,
            "justify_content": null,
            "justify_items": null,
            "left": null,
            "margin": null,
            "max_height": null,
            "max_width": null,
            "min_height": null,
            "min_width": null,
            "object_fit": null,
            "object_position": null,
            "order": null,
            "overflow": null,
            "overflow_x": null,
            "overflow_y": null,
            "padding": null,
            "right": null,
            "top": null,
            "visibility": null,
            "width": null
          }
        },
        "474efbd9f5064720a4d25de4f7ffc417": {
          "model_module": "@jupyter-widgets/controls",
          "model_name": "SliderStyleModel",
          "model_module_version": "1.5.0",
          "state": {
            "_model_module": "@jupyter-widgets/controls",
            "_model_module_version": "1.5.0",
            "_model_name": "SliderStyleModel",
            "_view_count": null,
            "_view_module": "@jupyter-widgets/base",
            "_view_module_version": "1.2.0",
            "_view_name": "StyleView",
            "description_width": "",
            "handle_color": null
          }
        },
        "4184658ba3a54821bc7f298676aa7dd9": {
          "model_module": "@jupyter-widgets/base",
          "model_name": "LayoutModel",
          "model_module_version": "1.2.0",
          "state": {
            "_model_module": "@jupyter-widgets/base",
            "_model_module_version": "1.2.0",
            "_model_name": "LayoutModel",
            "_view_count": null,
            "_view_module": "@jupyter-widgets/base",
            "_view_module_version": "1.2.0",
            "_view_name": "LayoutView",
            "align_content": null,
            "align_items": null,
            "align_self": null,
            "border": null,
            "bottom": null,
            "display": null,
            "flex": null,
            "flex_flow": null,
            "grid_area": null,
            "grid_auto_columns": null,
            "grid_auto_flow": null,
            "grid_auto_rows": null,
            "grid_column": null,
            "grid_gap": null,
            "grid_row": null,
            "grid_template_areas": null,
            "grid_template_columns": null,
            "grid_template_rows": null,
            "height": null,
            "justify_content": null,
            "justify_items": null,
            "left": null,
            "margin": null,
            "max_height": null,
            "max_width": null,
            "min_height": null,
            "min_width": null,
            "object_fit": null,
            "object_position": null,
            "order": null,
            "overflow": null,
            "overflow_x": null,
            "overflow_y": null,
            "padding": null,
            "right": null,
            "top": null,
            "visibility": null,
            "width": null
          }
        },
        "c581283a3bbb43278c99cea301ea9f44": {
          "model_module": "@jupyter-widgets/controls",
          "model_name": "SliderStyleModel",
          "model_module_version": "1.5.0",
          "state": {
            "_model_module": "@jupyter-widgets/controls",
            "_model_module_version": "1.5.0",
            "_model_name": "SliderStyleModel",
            "_view_count": null,
            "_view_module": "@jupyter-widgets/base",
            "_view_module_version": "1.2.0",
            "_view_name": "StyleView",
            "description_width": "",
            "handle_color": null
          }
        },
        "92cc0b29c7494d529443a1434c0e964b": {
          "model_module": "@jupyter-widgets/base",
          "model_name": "LayoutModel",
          "model_module_version": "1.2.0",
          "state": {
            "_model_module": "@jupyter-widgets/base",
            "_model_module_version": "1.2.0",
            "_model_name": "LayoutModel",
            "_view_count": null,
            "_view_module": "@jupyter-widgets/base",
            "_view_module_version": "1.2.0",
            "_view_name": "LayoutView",
            "align_content": null,
            "align_items": null,
            "align_self": null,
            "border": null,
            "bottom": null,
            "display": null,
            "flex": null,
            "flex_flow": null,
            "grid_area": null,
            "grid_auto_columns": null,
            "grid_auto_flow": null,
            "grid_auto_rows": null,
            "grid_column": null,
            "grid_gap": null,
            "grid_row": null,
            "grid_template_areas": null,
            "grid_template_columns": null,
            "grid_template_rows": null,
            "height": null,
            "justify_content": null,
            "justify_items": null,
            "left": null,
            "margin": null,
            "max_height": null,
            "max_width": null,
            "min_height": null,
            "min_width": null,
            "object_fit": null,
            "object_position": null,
            "order": null,
            "overflow": null,
            "overflow_x": null,
            "overflow_y": null,
            "padding": null,
            "right": null,
            "top": null,
            "visibility": null,
            "width": null
          }
        }
      }
    }
  },
  "cells": [
    {
      "cell_type": "markdown",
      "metadata": {
        "id": "view-in-github",
        "colab_type": "text"
      },
      "source": [
        "<a href=\"https://colab.research.google.com/github/GabrielWateyma/Simulations-Simulaciones/blob/main/Linear.ipynb\" target=\"_parent\"><img src=\"https://colab.research.google.com/assets/colab-badge.svg\" alt=\"Open In Colab\"/></a>"
      ]
    },
    {
      "cell_type": "code",
      "execution_count": 23,
      "metadata": {
        "colab": {
          "base_uri": "https://localhost:8080/",
          "height": 798,
          "referenced_widgets": [
            "891fc0fa3d434357b1bc486a65e19aed",
            "50d675f1438c4af29674306ac655aa47",
            "4d393b5cd09f4e0c83cd07eac74d6733",
            "2b3a9f6dbe8c48be952f0e1288a169dd",
            "2cde928f7c4d4d5fbecc3b20d953f97b",
            "e96923ed12da4332a2da00feef51b2c4",
            "474efbd9f5064720a4d25de4f7ffc417",
            "4184658ba3a54821bc7f298676aa7dd9",
            "c581283a3bbb43278c99cea301ea9f44",
            "92cc0b29c7494d529443a1434c0e964b"
          ]
        },
        "id": "GRMmIsTGYyMI",
        "outputId": "956acfa7-192d-4a46-b093-aa98ec1e08c8"
      },
      "outputs": [
        {
          "output_type": "display_data",
          "data": {
            "text/plain": [
              "interactive(children=(FloatSlider(value=0.0, description='slope', max=5.0, min=-5.0, step=0.5), FloatSlider(va…"
            ],
            "application/vnd.jupyter.widget-view+json": {
              "version_major": 2,
              "version_minor": 0,
              "model_id": "891fc0fa3d434357b1bc486a65e19aed"
            }
          },
          "metadata": {}
        },
        {
          "output_type": "execute_result",
          "data": {
            "text/plain": [
              "<function __main__.plot_linear_function(slope, intercept)>"
            ],
            "text/html": [
              "<div style=\"max-width:800px; border: 1px solid var(--colab-border-color);\"><style>\n",
              "      pre.function-repr-contents {\n",
              "        overflow-x: auto;\n",
              "        padding: 8px 12px;\n",
              "        max-height: 500px;\n",
              "      }\n",
              "\n",
              "      pre.function-repr-contents.function-repr-contents-collapsed {\n",
              "        cursor: pointer;\n",
              "        max-height: 100px;\n",
              "      }\n",
              "    </style>\n",
              "    <pre style=\"white-space: initial; background:\n",
              "         var(--colab-secondary-surface-color); padding: 8px 12px;\n",
              "         border-bottom: 1px solid var(--colab-border-color);\"><b>plot_linear_function</b><br/>def plot_linear_function(slope, intercept)</pre><pre class=\"function-repr-contents function-repr-contents-collapsed\" style=\"\"><a class=\"filepath\" style=\"display:none\" href=\"#\">/content/&lt;ipython-input-23-08797310f255&gt;</a>English translation:\n",
              "\n",
              "Graphs a linear function with the given slope and intercept.\n",
              "\n",
              "Args:\n",
              "slope (float) The slope of the linear function.\n",
              "intercept (float) The intercept of the linear function.\n",
              "\n",
              "\n",
              "Spanish translation:\n",
              "Grafica una función lineal con la pendiente e intersección dadas.\n",
              "\n",
              "Argumentos:\n",
              "pendiente (flotante) La pendiente de la función lineal.\n",
              "intersección (floatante) La intersección de la función lineal.</pre></div>"
            ]
          },
          "metadata": {},
          "execution_count": 23
        }
      ],
      "source": [
        "import matplotlib.pyplot as plt\n",
        "import numpy as np\n",
        "from ipywidgets import interact\n",
        "\n",
        "def plot_linear_function(slope, intercept):\n",
        "    \"\"\"\n",
        "    English translation:\n",
        "\n",
        "    Graphs a linear function with the given slope and intercept.\n",
        "\n",
        "    Args:\n",
        "    slope (float) The slope of the linear function.\n",
        "    intercept (float) The intercept of the linear function.\n",
        "\n",
        "\n",
        "    Spanish translation:\n",
        "    Grafica una función lineal con la pendiente e intersección dadas.\n",
        "\n",
        "    Argumentos:\n",
        "    pendiente (flotante) La pendiente de la función lineal.\n",
        "    intersección (floatante) La intersección de la función lineal.\n",
        "    \"\"\"\n",
        "\n",
        "    x = np.linspace(-10, 10, 400)  # Generates x values ​​for the graph / Genera valores de x para el gráfico\n",
        "    y = slope * x + intercept  # Calculate the corresponding y values / Calcula los valores de y correspondientes\n",
        "\n",
        "    plt.figure(figsize=(8, 6))  # Create a new shape for the chart / Crea una nueva figura para el gráfico\n",
        "    plt.plot(x, y, label=f'y = {slope}x + {intercept}')  # Graph the linear function / Grafica la función lineal\n",
        "    plt.xlabel('x')  # Label the x-axis / Etiqueta el eje x\n",
        "    plt.ylabel('y')  # Label the y-axis / Etiqueta el eje y\n",
        "    plt.title('Linear function')  # Establece el título del gráfico\n",
        "    plt.grid(True)  # Displays the grid on the chart / Muestra la cuadrícula en el gráfico\n",
        "    plt.axhline(0, color='black', linewidth=0.5)  # Draw the x-axis / Dibuja el eje x\n",
        "    plt.axvline(0, color='black', linewidth=0.5)  # Draw the y-axis / Dibuja el eje y\n",
        "    plt.legend()  # Displays the chart legend / Muestra la leyenda del gráfico\n",
        "    plt.show()  # Show the graph / Muestra el gráfico\n",
        "\n",
        "# Crea una interfaz interactiva para ajustar la pendiente y la intersección\n",
        "interact(plot_linear_function, slope=(-5.0, 5.0, 0.5), intercept=(-5.0, 5.0, 0.5))"
      ]
    }
  ]
}